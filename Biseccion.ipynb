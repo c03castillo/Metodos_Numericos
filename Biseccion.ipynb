{
  "nbformat": 4,
  "nbformat_minor": 0,
  "metadata": {
    "colab": {
      "name": "Biseccion.ipynb",
      "provenance": [],
      "collapsed_sections": []
    },
    "kernelspec": {
      "name": "python3",
      "display_name": "Python 3"
    },
    "language_info": {
      "name": "python"
    }
  },
  "cells": [
    {
      "cell_type": "markdown",
      "metadata": {
        "id": "sCZxyl9QdwJ3"
      },
      "source": [
        "Código que programa el método de Bisección"
      ]
    },
    {
      "cell_type": "code",
      "metadata": {
        "colab": {
          "base_uri": "https://localhost:8080/"
        },
        "id": "9k01MRq6bE9y",
        "outputId": "378cb24a-ddd1-4c77-c2d2-df16f0c31d89"
      },
      "source": [
        "def Biseccion(f, a, b, n):\n",
        "  if f(a)*f(b) >= 0:\n",
        "    print(\"Falla\")\n",
        "  a1 = a\n",
        "  b1 = b\n",
        "  for n in range(1, n+1):\n",
        "    m1 = (a1 + b1)/2\n",
        "    fm1 = f(m1)\n",
        "    if f(a1)*fm1 < 0:\n",
        "      a1 = a1\n",
        "      b1 = m1\n",
        "    elif f(b1)*fm1 < 0:\n",
        "      a1 = m1\n",
        "      b1 = b1\n",
        "    elif fm1 == 0:\n",
        "      print(\"La solución exacta\")\n",
        "      return m1\n",
        "    else:\n",
        "      print(\"Falla el método\")\n",
        "  return (a1 + b1)/2\n",
        "\n",
        "#Ejemplo\n",
        "print(\"La raíz es aproximadamente:\", Biseccion(lambda x: x**3 - 1 , -10, 10, 1000))"
      ],
      "execution_count": 4,
      "outputs": [
        {
          "output_type": "stream",
          "text": [
            "La solución exacta\n",
            "La raíz es aproximadamente: 1.0\n"
          ],
          "name": "stdout"
        }
      ]
    }
  ]
}