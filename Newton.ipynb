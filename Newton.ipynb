{
  "nbformat": 4,
  "nbformat_minor": 0,
  "metadata": {
    "colab": {
      "name": "Newton.ipynb",
      "provenance": [],
      "collapsed_sections": []
    },
    "kernelspec": {
      "name": "python3",
      "display_name": "Python 3"
    },
    "language_info": {
      "name": "python"
    }
  },
  "cells": [
    {
      "cell_type": "markdown",
      "metadata": {
        "id": "AP2j6_AyGW0L"
      },
      "source": [
        "Código que aproxima una función con el método de Newton-Raphson"
      ]
    },
    {
      "cell_type": "code",
      "metadata": {
        "id": "6oaEpbC5GP4L",
        "colab": {
          "base_uri": "https://localhost:8080/"
        },
        "outputId": "fc0baae0-20a4-4096-bed6-41847a4c6063"
      },
      "source": [
        "def Newton(fun, df, x, h , tol):\n",
        "  f = fun(x)\n",
        "  dx = (fun(x + h) - fun(x - h)) / (2*h) ### Primera derivada\n",
        "  n = 0 \n",
        "  while abs(f) > tol:\n",
        "    xn = x - (f / dx)\n",
        "    x = xn\n",
        "    f = df(xn)\n",
        "    n += 1\n",
        "  return x\n",
        "\n",
        "#Ejemplo\n",
        "print(\"La raíz es aproximadamente:\", Newton(lambda x: x**3 - 1, lambda x: 3*x**2, 1, 0.0001, 0.0001))"
      ],
      "execution_count": 1,
      "outputs": [
        {
          "output_type": "stream",
          "text": [
            "La raíz es aproximadamente: 1\n"
          ],
          "name": "stdout"
        }
      ]
    },
    {
      "cell_type": "markdown",
      "metadata": {
        "id": "fB9sJkeWWruK"
      },
      "source": [
        "Graficando"
      ]
    },
    {
      "cell_type": "code",
      "metadata": {
        "colab": {
          "base_uri": "https://localhost:8080/",
          "height": 374
        },
        "id": "6o1P9dcnWqmz",
        "outputId": "8ad5c2b8-0a90-4656-a1b2-162a9491ff37"
      },
      "source": [
        "import matplotlib.pyplot as plt\n",
        "import numpy as np\n",
        "\n",
        "def f(x):\n",
        "  return x**3 - 1\n",
        "\n",
        "x = np.linspace(-10, 10, 1000)\n",
        "\n",
        "plt.figure(figsize = (10,6))\n",
        "plt.plot(x, f(x))\n",
        "plt.xlim(-5,5)\n",
        "plt.ylim(-5,5)\n",
        "plt.grid()\n",
        "plt.show()"
      ],
      "execution_count": 18,
      "outputs": [
        {
          "output_type": "display_data",
          "data": {
            "image/png": "[encoded data removed]",
            "text/plain": [
              "<Figure size 720x432 with 1 Axes>"
            ]
          },
          "metadata": {
            "tags": [],
            "needs_background": "light"
          }
        }
      ]
    }
  ]
}