{
  "nbformat": 4,
  "nbformat_minor": 0,
  "metadata": {
    "colab": {
      "name": "Newton",
      "provenance": [],
      "collapsed_sections": []
    },
    "kernelspec": {
      "name": "python3",
      "display_name": "Python 3"
    },
    "language_info": {
      "name": "python"
    }
  },
  "cells": [
    {
      "cell_type": "markdown",
      "metadata": {
        "id": "AP2j6_AyGW0L"
      },
      "source": [
        "Código que aproxima una función con el método de Newton"
      ]
    },
    {
      "cell_type": "code",
      "metadata": {
        "id": "6oaEpbC5GP4L",
        "colab": {
          "base_uri": "https://localhost:8080/"
        },
        "outputId": "443d1823-f4f9-4015-f7d7-3955acf3284f"
      },
      "source": [
        "def Newton(fun, df, x, h , tol):\n",
        "  f = fun(x)\n",
        "  dx = (fun(x + h) - fun(x - h)) / (2*h) ### Primera derivada\n",
        "  n = 0 ### Inicializando en 0\n",
        "  while abs(f) > tol:\n",
        "    xn = x - (f / dx)\n",
        "    x = xn\n",
        "    f = df(xn)\n",
        "    n += 1\n",
        "  return x, abs(f)\n",
        "print(\"La raíz es aproximadamente y error de:\", Newton(lambda x: x**3 - 1, lambda x: 3*x**2, 1, 0.0001, 0.0001))"
      ],
      "execution_count": null,
      "outputs": [
        {
          "output_type": "stream",
          "text": [
            "La raíz es aproximadamente y error de: (1, 0)\n"
          ],
          "name": "stdout"
        }
      ]
    },
    {
      "cell_type": "markdown",
      "metadata": {
        "id": "e6fRkS_ETnI3"
      },
      "source": [
        "Comprobando con scipy"
      ]
    },
    {
      "cell_type": "code",
      "metadata": {
        "colab": {
          "base_uri": "https://localhost:8080/"
        },
        "id": "plNPYy0cM8pS",
        "outputId": "a86b315d-a3da-411f-a6f4-e09ed06f0087"
      },
      "source": [
        "from scipy import optimize\n",
        "\n",
        "raíz = optimize.newton(lambda x: x**3 - 1, 1,  lambda x: 3*x**2)\n",
        "print(raíz)"
      ],
      "execution_count": null,
      "outputs": [
        {
          "output_type": "stream",
          "text": [
            "1.0\n"
          ],
          "name": "stdout"
        }
      ]
    },
    {
      "cell_type": "markdown",
      "metadata": {
        "id": "Te-lzZQTU2gU"
      },
      "source": [
        "Graficando"
      ]
    },
    {
      "cell_type": "code",
      "metadata": {
        "colab": {
          "base_uri": "https://localhost:8080/",
          "height": 269
        },
        "id": "VpMI1-aMU1ow",
        "outputId": "aebf8e1a-3afd-4593-e942-83400aa6c050"
      },
      "source": [
        "import matplotlib.pyplot as plt\n",
        "import numpy as np\n",
        "\n",
        "def funcion(x):\n",
        "  return x**3 - 1\n",
        "\n",
        "x = np.linspace(-10,5)\n",
        "\n",
        "plt.plot(x, [funcion(i) for i in x])\n",
        "#plt.axhline(0,color='black')\n",
        "#plt.axvline(0,color='black')\n",
        "plt.xlim(-5,5)\n",
        "plt.ylim(-10,10)\n",
        "plt.grid()\n",
        "plt.show()"
      ],
      "execution_count": null,
      "outputs": [
        {
          "output_type": "display_data",
          "data": {
            "image/png": "[encoded data removed]",
            "text/plain": [
              "<Figure size 432x288 with 1 Axes>"
            ]
          },
          "metadata": {
            "tags": [],
            "needs_background": "light"
          }
        }
      ]
    }
  ]
}