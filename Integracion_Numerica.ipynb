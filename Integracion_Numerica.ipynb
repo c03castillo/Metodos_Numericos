{
  "nbformat": 4,
  "nbformat_minor": 0,
  "metadata": {
    "colab": {
      "name": "Integracion_Numerica.ipynb",
      "provenance": [],
      "collapsed_sections": []
    },
    "kernelspec": {
      "name": "python3",
      "display_name": "Python 3"
    },
    "language_info": {
      "name": "python"
    }
  },
  "cells": [
    {
      "cell_type": "markdown",
      "metadata": {
        "id": "epf2TzKWbdH6"
      },
      "source": [
        "Método del Trapecio\n"
      ]
    },
    {
      "cell_type": "code",
      "metadata": {
        "colab": {
          "base_uri": "https://localhost:8080/"
        },
        "id": "35Nf6mh-MQXA",
        "outputId": "e001a28d-0298-4ab8-cc91-8b8fa48d4dce"
      },
      "source": [
        "def Trapezio(f, a, b, n):\n",
        "  paso = (a - b)/n\n",
        "  integral = f(a) + f(b)\n",
        "  i = 1\n",
        "  while i <= n:\n",
        "    k = a + i*paso\n",
        "    integral = integral + 2*f(k)\n",
        "    i += 1\n",
        "  integral = integral * (paso/2)\n",
        "  return integral\n",
        "\n",
        "#Ejemplo\n",
        "#print(Trapezio(lambda x: x, 0, 1, 10000))"
      ],
      "execution_count": null,
      "outputs": [
        {
          "output_type": "stream",
          "text": [
            "0.499999999999999\n"
          ],
          "name": "stdout"
        }
      ]
    },
    {
      "cell_type": "markdown",
      "metadata": {
        "id": "M-SK5bzcbqAJ"
      },
      "source": [
        "Método de Simpson de 1/3"
      ]
    },
    {
      "cell_type": "code",
      "metadata": {
        "colab": {
          "base_uri": "https://localhost:8080/"
        },
        "id": "R4gMVDK8KBTC",
        "outputId": "3e250055-b157-44ba-cb83-50d8433ffaf4"
      },
      "source": [
        "def Simpson_Un_Tercio(f, a, b, n):\n",
        "  paso = (a - b)/n\n",
        "  integral = f(a) + f(b)\n",
        "  i = 1\n",
        "  while i <= n:\n",
        "    k = a + i*paso\n",
        "    if i % 2 == 0:\n",
        "      integral = integral + 2*f(k)\n",
        "    else:\n",
        "      integral = integral + 4*f(k)\n",
        "    i += 1\n",
        "  integral = integral * (paso/3)\n",
        "  return integral\n",
        "\n",
        "#Ejemplo\n",
        "#print(Simpson_Un_Tercio(lambda x: x, 0, 1, 100000))"
      ],
      "execution_count": null,
      "outputs": [
        {
          "output_type": "stream",
          "text": [
            "0.4999999999999994\n"
          ],
          "name": "stdout"
        }
      ]
    },
    {
      "cell_type": "markdown",
      "metadata": {
        "id": "S8TQ70T6b6Dq"
      },
      "source": [
        "Método de Simpson de 3/8"
      ]
    },
    {
      "cell_type": "code",
      "metadata": {
        "colab": {
          "base_uri": "https://localhost:8080/"
        },
        "id": "alIH7EPkN9JP",
        "outputId": "d429629d-10dc-4021-ef85-2b013d7513bd"
      },
      "source": [
        "def Simpson_Tres_Octavos(f, a, b, n):\n",
        "  paso = (a - b)/n\n",
        "  integral = f(a) + f(b)\n",
        "  i = 1\n",
        "  while i <= n:\n",
        "    k = a + i*paso\n",
        "    if i % 3 == 0:\n",
        "      integral = integral + 2*f(k)\n",
        "    else:\n",
        "      integral = integral + 3*f(k)\n",
        "    i += 1\n",
        "  integral = integral * (paso*(3/8))\n",
        "  return integral\n",
        "\n",
        "\n",
        "#Ejemplo\n",
        "#print(Simpson_Tres_Octavos(lambda x: x, 0, 1, 100000))"
      ],
      "execution_count": null,
      "outputs": [
        {
          "output_type": "stream",
          "text": [
            "0.500001250012501\n"
          ],
          "name": "stdout"
        }
      ]
    }
  ]
}